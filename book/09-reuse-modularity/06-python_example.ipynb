{
  "nbformat": 4,
  "nbformat_minor": 0,
  "metadata": {
    "colab": {
      "provenance": []
    },
    "kernelspec": {
      "name": "python3",
      "display_name": "Python 3"
    },
    "language_info": {
      "name": "python"
    }
  },
  "cells": [
    {
      "cell_type": "markdown",
      "source": [
        "# Python Example B\n",
        "\n",
        "But we could break down this program further, thinking about the underlying steps:\n",
        "- Get user input for Fahrenheit temperature\n",
        "- Convert to celsius\n",
        "- Show output\n",
        "\n",
        "We could create modular pieces for each of these tasks."
      ],
      "metadata": {
        "id": "I0XhYUr0YUYk"
      }
    },
    {
      "cell_type": "code",
      "source": [
        "# function for getting input\n",
        "def getFahrenheit():\n",
        "  fahrenheit = float(input(\"Enter a temperature in Fahrenheit: \"))\n",
        "  return fahrenheit"
      ],
      "metadata": {
        "id": "yb5mRH0IL-c_"
      },
      "execution_count": null,
      "outputs": []
    },
    {
      "cell_type": "code",
      "source": [
        "# function for converting to Celsius\n",
        "def convertTemp(fahrenheit):\n",
        "  celsius = (fahrenheit -32) * 5/9\n",
        "  return celsius"
      ],
      "metadata": {
        "id": "SqF0e5ZxL_SA"
      },
      "execution_count": null,
      "outputs": []
    },
    {
      "cell_type": "code",
      "source": [
        "# function for returning output\n",
        "def result(fahrenheit, celsius):\n",
        "  print(f\"{fahrenheit} degrees Fahrenheit is equal to {celsius} degrees celsius\")"
      ],
      "metadata": {
        "id": "7rrzblhxMAVU"
      },
      "execution_count": null,
      "outputs": []
    },
    {
      "cell_type": "markdown",
      "source": [
        "And we could create a combined function from each of those three individual functions."
      ],
      "metadata": {
        "id": "Cgp9Bk7GMA_2"
      }
    },
    {
      "cell_type": "code",
      "source": [
        "# combined function\n",
        "def combined():\n",
        "  fahrenheit = getFahrenheit()\n",
        "  celsius = convertTemp(fahrenheit)\n",
        "  result(fahrenheit, celsius)"
      ],
      "metadata": {
        "id": "SAhULpePMB7M"
      },
      "execution_count": null,
      "outputs": []
    },
    {
      "cell_type": "markdown",
      "source": [
        "To run our entire temperature conversion program, we would just need to call the `combined()` function using its name."
      ],
      "metadata": {
        "id": "eHWAm1tfMCqH"
      }
    },
    {
      "cell_type": "code",
      "source": [
        "# combined temperature conversion program function call\n",
        "combined()"
      ],
      "metadata": {
        "id": "uqFXJ5vbMDXP"
      },
      "execution_count": null,
      "outputs": []
    },
    {
      "cell_type": "markdown",
      "source": [
        "## Putting It All Together\n",
        "\n",
        "To summarize, we created a function for each piece of our conversion program (`getFahrenheit`, `convertTemp`, `result`), and then created a `main` function that combined those three steps."
      ],
      "metadata": {
        "id": "NYKQmTqBMEIO"
      }
    },
    {
      "cell_type": "code",
      "source": [
        "# function for getting input\n",
        "def getFahrenheit():\n",
        "  fahrenheit = float(input(\"Enter a temperature in Fahrenheit: \"))\n",
        "  return fahrenheit\n",
        "\n",
        "# function for converting to Celsius\n",
        "def convertTemp(fahrenheit):\n",
        "  celsius = (fahrenheit -32) * 5/9\n",
        "  return celsius\n",
        "\n",
        "# function for returning output\n",
        "def result(fahrenheit, celsius):\n",
        "  print(f\"{fahrenheit} degrees Fahrenheit is equal to {celsius} degrees celsius\")\n",
        "\n",
        "# combined function\n",
        "def combined():\n",
        "  fahrenheit = getFahrenheit()\n",
        "  celsius = convertTemp(fahrenheit)\n",
        "  result(fahrenheit, celsius)\n",
        "\n",
        "# combined temperature conversion program function call\n",
        "combined()"
      ],
      "metadata": {
        "id": "re04a14HMFI3"
      },
      "execution_count": null,
      "outputs": []
    }
  ]
}