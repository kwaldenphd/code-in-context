{
  "nbformat": 4,
  "nbformat_minor": 0,
  "metadata": {
    "colab": {
      "provenance": []
    },
    "kernelspec": {
      "name": "python3",
      "display_name": "Python 3"
    },
    "language_info": {
      "name": "python"
    }
  },
  "cells": [
    {
      "cell_type": "markdown",
      "source": [
        "# Python Example C\n",
        "\n",
        "Let's say we want to create a function that prints an input string three times. Breaking down the steps of that program:\n",
        "- Get input string\n",
        "- Print the string (3x)\n",
        "\n",
        "We might also need some way of tracking how many times we've printed the string so it stops at three.\n",
        "\n",
        "One way we could approach this would be using a `count` variable and a `while` statement.\n"
      ],
      "metadata": {
        "id": "HrBkuoKWMGCe"
      }
    },
    {
      "cell_type": "code",
      "source": [
        "# assign count to 0\n",
        "count = 0\n",
        "\n",
        "# get input string\n",
        "message = input(\"Type your message here: \")\n",
        "\n",
        "# while statement\n",
        "while count < 3:\n",
        "    print(message) # print message\n",
        "    count += 1 # reassign count"
      ],
      "metadata": {
        "id": "DVkHGOCyMG0n"
      },
      "execution_count": null,
      "outputs": []
    },
    {
      "cell_type": "markdown",
      "source": [
        "Thinking through how this program runs:\n",
        "- `count` starts at `0` and increases by an increment of `1` each time the code nested under `while` runs\n",
        "- The code nested under `while` will keep running until the initial condition (`count < 3`) is no longer true\n",
        "\n",
        "We can test this program to make sure the output is what we expect. How that we have a program that prints an input string three times, we can create the named function.\n",
        "\n",
        "```Python\n",
        "# function definition\n",
        "def printThreeTimes(string):\n",
        "```\n",
        "\n",
        "Then under the `def` keyword will go the lines of code that execute our program."
      ],
      "metadata": {
        "id": "F0tnnmxlMHyU"
      }
    },
    {
      "cell_type": "code",
      "source": [
        "# function definition\n",
        "def printThreeTimes():\n",
        "    count = 0 # assign count\n",
        "    message = input(\"Type your message here: \") # get input message\n",
        "    while count < 3: # while statement\n",
        "        print(message) # print message\n",
        "        count += 1 # reassign count"
      ],
      "metadata": {
        "id": "ihLl9igAMKDF"
      },
      "execution_count": null,
      "outputs": []
    },
    {
      "cell_type": "markdown",
      "source": [
        "Now when we run this block of code, there won't be any output because we are just creating or defining the `printThreeTimes` function. When we need to use the function, we can call it using its name."
      ],
      "metadata": {
        "id": "nNYG23kKMOMC"
      }
    },
    {
      "cell_type": "code",
      "source": [
        "# sample function call\n",
        "printThreeTimes()"
      ],
      "metadata": {
        "id": "jB8msfcDMPDG"
      },
      "execution_count": null,
      "outputs": []
    },
    {
      "cell_type": "markdown",
      "source": [
        "## Putting It All Together"
      ],
      "metadata": {
        "id": "eaRwP627Y5Qd"
      }
    },
    {
      "cell_type": "code",
      "source": [
        "# function definition\n",
        "def printThreeTimes():\n",
        "    count = 0 # assign count\n",
        "    message = input(\"Type your message here: \") # get input message\n",
        "    while count < 3: # while statement\n",
        "        print(message) # print message\n",
        "        count += 1 # reassign count\n",
        "\n",
        "# function call\n",
        "printThreeTimes()"
      ],
      "metadata": {
        "id": "jgz7KDAsMQm6"
      },
      "execution_count": null,
      "outputs": []
    },
    {
      "cell_type": "markdown",
      "source": [
        "## But Modifying It Slightly\n",
        "\n",
        "But let's say we don't want to use an `input()` statement as part of the function- what if we wanted to pass a specific value to the function?\n",
        "\n",
        "First, let's build a program that accomplishes this task."
      ],
      "metadata": {
        "id": "MfWMShWLY92F"
      }
    },
    {
      "cell_type": "code",
      "source": [
        "# assign string\n",
        "message = \"There's no place like home\"\n",
        "\n",
        "# assign count\n",
        "count = 0\n",
        "\n",
        "# while statement\n",
        "while count < 3:\n",
        "    print(message) # print message\n",
        "    count += 1 # reassign count"
      ],
      "metadata": {
        "id": "k3c5ObryMSVQ"
      },
      "execution_count": null,
      "outputs": []
    },
    {
      "cell_type": "markdown",
      "source": [
        "To create the function:"
      ],
      "metadata": {
        "id": "r-XxOizsMS4f"
      }
    },
    {
      "cell_type": "code",
      "source": [
        "def printThreeTimes(message):\n",
        "    count = 0 # assign count\n",
        "    while count < 3: # while statement\n",
        "        print(message) # print message\n",
        "        count += 1 # reassign count"
      ],
      "metadata": {
        "id": "uboVFUl_MTnY"
      },
      "execution_count": null,
      "outputs": []
    },
    {
      "cell_type": "markdown",
      "source": [
        "Remember in this scenario, we are going to pass a specific value to the function, rather than asking for an input as part of the function.\n",
        "\n",
        "So how would we call our modified `printThreeTimes` function? We would pass a string object to the function."
      ],
      "metadata": {
        "id": "MIL-m_5yMUOD"
      }
    },
    {
      "cell_type": "code",
      "source": [
        "# assign string\n",
        "message = \"There's no place like home\"\n",
        "\n",
        "# function definition\n",
        "def printThreeTimes(message):\n",
        "    count = 0 # assign count\n",
        "    while count < 3: # while statement\n",
        "        print(message) # print message\n",
        "        count += 1 # reassign count\n",
        "\n",
        "# function call\n",
        "printThreeTimes(message)"
      ],
      "metadata": {
        "id": "H5iQKrLTMVNb"
      },
      "execution_count": null,
      "outputs": []
    },
    {
      "cell_type": "markdown",
      "source": [
        "## `for` Loop Approach\n",
        "\n",
        "While the previous example used a `while` statement to build this program, we could also use a `for` loop."
      ],
      "metadata": {
        "id": "mqnmNx29JPjh"
      }
    },
    {
      "cell_type": "code",
      "source": [
        "# core program\n",
        "for x in range(3):\n",
        "  print(\"There's no place like home\")"
      ],
      "metadata": {
        "id": "99JT3hn7JWP7"
      },
      "execution_count": null,
      "outputs": []
    },
    {
      "cell_type": "code",
      "source": [
        "# function definition\n",
        "def printThreeTimes(message):\n",
        "  for x in range(3): # for loop\n",
        "    print(\"There's no place like home\") # output message"
      ],
      "metadata": {
        "id": "i-1X3lSTJfZ8"
      },
      "execution_count": null,
      "outputs": []
    },
    {
      "cell_type": "code",
      "source": [
        "printThreeTimes(\"There's no place like home\") # function call"
      ],
      "metadata": {
        "id": "mZ-Jyh4oJqv0"
      },
      "execution_count": null,
      "outputs": []
    }
  ]
}