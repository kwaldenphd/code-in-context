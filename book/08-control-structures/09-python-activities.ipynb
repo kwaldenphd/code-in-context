{
  "nbformat": 4,
  "nbformat_minor": 0,
  "metadata": {
    "colab": {
      "provenance": [],
      "collapsed_sections": [
        "sDm3YDacsF1n",
        "hRMqqyXzr8Vx",
        "274PaGwKf5HD",
        "Eno0ziZfsZZG",
        "b0Q7gvSksAM3",
        "2i83R5TVvyn_"
      ]
    },
    "kernelspec": {
      "name": "python3",
      "display_name": "Python 3"
    },
    "language_info": {
      "name": "python"
    }
  },
  "cells": [
    {
      "cell_type": "markdown",
      "source": [
        "# Python Activities\n",
        "\n",
        "The first group of collaborative activities give students opportunities to connect secondary data structures and control structures in Python for a variety of creative text applications. The first focuses on text-adventure games, while the second focuses on creative text generation."
      ],
      "metadata": {
        "id": "YfBatVzweZst"
      }
    },
    {
      "cell_type": "markdown",
      "source": [
        "## Text-Adventure Games\n",
        "\n",
        "Earlier in the semester, we used one of our Thursday collaborative work sessions to explore command-line text games.\n",
        "- [Noah Veltman’s Command-Line Murder Mystery](https://github.com/veltman/clmystery)\n",
        "- [Bashcrawl](https://gitlab.com/slackermedia/bashcrawl) (version of the 1970s game [Colossal Cave Adventure](https://en.wikipedia.org/wiki/Colossal_Cave_Adventure))\n",
        "- Andrew Petro’s [BashVenture](https://github.com/apetro/BashVenture) (a few different room-based scenarios)\n",
        "- [MIT’s Terminus](https://web.mit.edu/mprat/Public/web/Terminus/Web/main.html)\n",
        "\n",
        "We can use Python’s control structures to implement similar kinds of game experiences. A few preliminary examples:\n",
        "- [Python Creative Coding Adventure Game](https://github.com/sheena1010/creativecodinginpython/blob/master/AdventureGame.py)\n",
        "- [Make Use Of Adventure Game](https://github.com/makeuseofcode/python-adventure-game/blob/main/AdventureGame.py)\n",
        "- [Mr. Shareware Mojave Springs Adventure](https://github.com/mrshareware/MojaveSpringsAdventure/tree/main)"
      ],
      "metadata": {
        "id": "DTCAPujvzTnZ"
      }
    },
    {
      "cell_type": "markdown",
      "source": [
        "### Activity Steps\n",
        "\n",
        "**Step #1: Explore some of the sample Python game programs.**\n",
        "\n",
        "You'll want to run the entire program as a script. One option is download the source file and opening in a console IDE. The code below will download the game files and run the script in a notebook."
      ],
      "metadata": {
        "id": "mqs96x6I0S0j"
      }
    },
    {
      "cell_type": "code",
      "source": [
        "!wget https://raw.githubusercontent.com/sheena1010/creativecodinginpython/master/AdventureGame.py\n",
        "!python3 AdventureGame.py"
      ],
      "metadata": {
        "id": "O7f0Rfes1EHm"
      },
      "execution_count": null,
      "outputs": []
    },
    {
      "cell_type": "code",
      "source": [
        "!wget https://raw.githubusercontent.com/makeuseofcode/python-adventure-game/main/AdventureGame.py\n",
        "!python3 AdventureGame.py.2"
      ],
      "metadata": {
        "id": "iCeKOPQ01YXi"
      },
      "execution_count": null,
      "outputs": []
    },
    {
      "cell_type": "code",
      "source": [
        "!wget https://raw.githubusercontent.com/mrshareware/MojaveSpringsAdventure/main/MojaveSpringsAdv.py\n",
        "!python3 MojaveSpringsAdv.py"
      ],
      "metadata": {
        "id": "V1qdajlq1mdF"
      },
      "execution_count": null,
      "outputs": []
    },
    {
      "cell_type": "markdown",
      "source": [
        "**Step #2: Brainstorm some ideas for something you could build in Python! Given our time constraints, don’t worry about actually building out an entire program. Think more conceptually about a pseudocode outline. You’re welcome to use the sample programs or other documentation as a starting point.**"
      ],
      "metadata": {
        "id": "TvT1CUUd11am"
      }
    },
    {
      "cell_type": "markdown",
      "source": [
        "**Step #3: A good place to start would be with pseudocode. What do you want your program to do? How can we map that onto Python control structures?**\n",
        "- Start with a word problem, or a narrative description of the task\n",
        "  * What is the goal\n",
        "  * What are the parameters or constraints\n",
        "  * Any particular commands or syntax you’re asked to use\n",
        "- Start breaking down the tasks into steps, thinking about how programming languages (specifically Python) approach logic\n",
        "  * Input/output, variables, operators (arithmetic, comparison)\n",
        "  * What are the programming building blocks that connect to aspects of the task\n",
        "  * BUT still write things out in plain language (not programming syntax)\n",
        "- Continue breaking the task into steps\n",
        "  * The goal is one programming step (or statement) per line\n"
      ],
      "metadata": {
        "id": "awXH_Pww2Aat"
      }
    },
    {
      "cell_type": "markdown",
      "source": [
        "**Step #4: See where you can get with building out a program.**"
      ],
      "metadata": {
        "id": "QEzVF6Up2INB"
      }
    },
    {
      "cell_type": "markdown",
      "source": [
        "**Step #5: Continue to work on debugging and testing your program, switching up group roles as needed.**"
      ],
      "metadata": {
        "id": "MVq1Y-es2NWU"
      }
    },
    {
      "cell_type": "markdown",
      "source": [
        "**Step #5: Spend a few minutes as a group discussing and reflecting on the experience. What challenges did your group encounter, and how did you solve them? Other comments or observations?**"
      ],
      "metadata": {
        "id": "XDWn7SMM2QCT"
      }
    },
    {
      "cell_type": "markdown",
      "source": [
        "## Poetry Generation\n",
        "\n",
        "We've seen a few different examples of Python text generation programs, from madlibs to Dadaist poem construction to other computational approaches to poetry."
      ],
      "metadata": {
        "id": "TGfYZvG1rmMe"
      }
    },
    {
      "cell_type": "markdown",
      "source": [
        "### Past Examples"
      ],
      "metadata": {
        "id": "sDm3YDacsF1n"
      }
    },
    {
      "cell_type": "markdown",
      "source": [
        "#### Byron Madlib"
      ],
      "metadata": {
        "id": "hRMqqyXzr8Vx"
      }
    },
    {
      "cell_type": "code",
      "source": [
        "import random # import random module\n",
        "\n",
        "terms = {\n",
        "\t'verbs': ['runs', 'crawls', 'begs', 'rides', 'sings'], # list of verbs\n",
        "\t'prepositions': ['in', 'on', 'under', 'over', 'through'], # list of prepositions\n",
        "\t'adjectives' : ['small', 'warm', 'angry', 'happy'], # list of adjectives\n",
        "\t'nouns' : ['cloud', 'terrace', 'castle', 'woods']\n",
        "\t}\n",
        "\n",
        "# poem madlib\n",
        "print(\"She \" + random.choice(terms['verbs']) + \" in beauty, like the \" + random.choice(terms['nouns']) + \"\\n Of \" +\n",
        "      random.choice(terms['adjectives']) + \" \" + random.choice(terms['nouns']) + \" and \" + random.choice(terms['adjectives']) + \" \" + random.choice(terms['nouns']))"
      ],
      "metadata": {
        "id": "tHwx_qUvf46m"
      },
      "execution_count": null,
      "outputs": []
    },
    {
      "cell_type": "markdown",
      "source": [
        "#### Dadaist Poem\n",
        "\n",
        "Avant-garde 20th century Poet Tristan Tzara developed a [framework for making a Dadaist poem](https://www.writing.upenn.edu/~afilreis/88v/tzara.html) (circa 1920). We can implement a similar approach in Python using list methods. The program below is based on [Allison Parrish’s implementation](https://github.com/aparrish/rwet/blob/master/some-poetry-generators.ipynb), but you can modify the original text and output format to make your own creation!\n"
      ],
      "metadata": {
        "id": "hzAbwKK5geVH"
      }
    },
    {
      "cell_type": "code",
      "source": [
        "# based on: https://www.writing.upenn.edu/~afilreis/88v/tzara.html\n",
        "\n",
        "import random, textwrap # import Python modules\n",
        "\n",
        "# paragraph of  text\n",
        "newspaper = \"\"\"\n",
        "Dada was an informal international movement, with\n",
        "participants in Europe and North America. The\n",
        "beginnings of Dada correspond to the outbreak of\n",
        "World War I. For many participants, the movement\n",
        "was a protest against the bourgeois nationalist\n",
        "and colonialist interests, which many Dadaists\n",
        "believed were the root cause of the war, and\n",
        "against the cultural and intellectual\n",
        "conformity — in art and more broadly in\n",
        "society — that corresponded to the war.\"\"\"\n",
        "\n",
        "words = newspaper.split() # split newspaper variable into list of words\n",
        "random.shuffle(words) # shuffle list of words\n",
        "\n",
        "print(textwrap.fill(\" \".join(words), 60)) # recreate paragraph from shuffled list"
      ],
      "metadata": {
        "id": "Zv8Yn_3ygqmv"
      },
      "execution_count": null,
      "outputs": []
    },
    {
      "cell_type": "markdown",
      "source": [
        "### New Forms\n",
        "\n",
        "Let's look at some other creative works that connect concepts we've seen in recent chapters.\n"
      ],
      "metadata": {
        "id": "274PaGwKf5HD"
      }
    },
    {
      "cell_type": "code",
      "source": [
        "# based on: https://github.com/aparrish/rwet/blob/master/some-poetry-generators.ipynb & https://nickm.com/memslam/the_house_of_dust.html\n",
        "\n",
        "import random # import random\n",
        "\n",
        "materials = [ # list of materials\n",
        "    'brick',\n",
        "    'broken dishes',\n",
        "    'discarded clothing',\n",
        "    'dust',\n",
        "    'glass',\n",
        "    'leaves',\n",
        "    'mud',\n",
        "    'paper',\n",
        "    'plastic',\n",
        "    'roots',\n",
        "    'sand',\n",
        "    'steel',\n",
        "    'stone',\n",
        "    'straw',\n",
        "    'tin',\n",
        "    'weeds',\n",
        "    'wood'\n",
        "]\n",
        "\n",
        "\n",
        "\n",
        "locations = [ # list of locations\n",
        "    'among high mountains',\n",
        "    'among other houses',\n",
        "    'among small hills',\n",
        "    'by a river',\n",
        "    'by an abandoned lake',\n",
        "    'by the sea',\n",
        "    'in a cold, windy climate',\n",
        "    'in a deserted airport',\n",
        "    'in a deserted church',\n",
        "    'in a deserted factory',\n",
        "    'in a green, mossy terrain',\n",
        "    'in a hot climate',\n",
        "    'in a metropolis',\n",
        "    'in a place with both heavy rain and bright sun',\n",
        "    'in an overpopulated area',\n",
        "    'in dense woods',\n",
        "    'in heavy jungle undergrowth',\n",
        "    'in japan',\n",
        "    'in michigan',\n",
        "    'in southern france',\n",
        "    'inside a mountain',\n",
        "    'on an island',\n",
        "    'on the sea',\n",
        "    'underwater'\n",
        "]\n",
        "\n",
        "\n",
        "\n",
        "lights = [ # list of lighting options\n",
        "    'all available lighting',\n",
        "    'candles',\n",
        "    'electricity',\n",
        "    'natural light'\n",
        "]\n",
        "\n",
        "\n",
        "\n",
        "inhabitants = [ # list of inhabitant options\n",
        "    'all races of men represented wearing predominantly red clothing',\n",
        "    'children and old people',\n",
        "    'collectors of all types',\n",
        "    'fishermen and families',\n",
        "    'french and german speaking people',\n",
        "    'friends',\n",
        "    'friends and enemies',\n",
        "    'horses and birds',\n",
        "    'little boys',\n",
        "    'lovers',\n",
        "    'people from many walks of life',\n",
        "    'people speaking many languages wearing little or no clothing',\n",
        "    'people who eat a great deal',\n",
        "    'people who enjoy eating together',\n",
        "    'people who love to read',\n",
        "    'people who sleep almost all the time',\n",
        "    'people who sleep very little',\n",
        "    'various birds and fish',\n",
        "    'vegetarians',\n",
        "    'very tall people'\n",
        "]\n",
        "\n",
        "stanza_count = 7 # number of stanzas for the poem\n",
        "\n",
        "for i in range(stanza_count): # create number of stanzas\n",
        "    print()\n",
        "    print(\"A house of \" + random.choice(materials))\n",
        "    print(\"     \" + random.choice(locations))\n",
        "    print(\"          using \" + random.choice(lights))\n",
        "    print(\"                inhabited by \" + random.choice(inhabitants))"
      ],
      "metadata": {
        "id": "1joJz30EgDpr"
      },
      "execution_count": null,
      "outputs": []
    },
    {
      "cell_type": "markdown",
      "source": [
        "#### Taroko Gorge\n",
        "\n",
        "Nick Montfort’s “[Taroko Gorge](https://nickm.com/taroko_gorge/),” as described by the author in [*The Electronic Literature Collection Volume Three*](https://collection.eliterature.org/3/work.html?work=taroko-gorge):\n",
        "\n",
        "<blockquote>“Taroko Gorge originated as a Python program that I developed at Taroko Gorge National Park in Taiwan. If others could go to a place of natural beauty and write a poem about that place, why couldn't I write a poetry generator, instead? Less esoteric than much of my other work, and aimed at evocative description rather than provocation or parody, this generator forms strophes that begin and end with a \"path\" line and may have one or more more static \"site\" lines in between. Between each pair of such strophes is a \"cave\" line that trails off, as if into darkness, like the tunnels in the park that were carved by Chiang Kai-shek's Nationalist army. The generated text, which is produced limitlessly, is pleasing to read, perhaps, but it seems at least as enjoyable to carve into the code and shape the program to represent different experiences and ideas.”</blockquote>\n",
        "\n",
        "Montfort’s Python program uses a combination of lists, functions, some conditional statements, and for loops (along with a lot of concatenation and string work). The program below is based on [Allison Parrish’s implementation](https://github.com/aparrish/rwet/blob/master/some-poetry-generators.ipynb). Folks can also explore the [variety of electronic literature works](https://collection.eliterature.org/3/collection-taroko.html) that have remixed “Taroko Gorge.”"
      ],
      "metadata": {
        "id": "Eno0ziZfsZZG"
      }
    },
    {
      "cell_type": "code",
      "source": [
        "# source: https://github.com/aparrish/rwet/blob/master/some-poetry-generators.ipynb\n",
        "\n",
        "import random\n",
        "\n",
        "# create various term lists\n",
        "above = ['brow', 'mist', 'shape', 'layer', 'the crag', 'stone', 'forest', 'height']\n",
        "below = ['flow', 'basin', 'shape', 'vein', 'rippling', 'stone', 'cove', 'rock']\n",
        "transitive = ['command', 'pace', 'roam', 'trail', 'frame', 'sweep', 'exercise', 'range']\n",
        "imperative = ['track', 'shade', 'translate', 'stamp', 'progress through', 'direct', 'run', 'enter']\n",
        "intransitive = ['linger', 'dwell', 'rest', 'relax', 'hold', 'dream', 'hum']\n",
        "texture = ['rough', 'fine']\n",
        "adjectives = ['encompassing', 'sinuous', 'straight', 'objective', 'arched', 'cool', 'clear', 'dim', 'driven']\n",
        "\n",
        "# code to get the path\n",
        "plural = random.sample([\"s\", \"\"], k=2)\n",
        "words = random.choice(above)\n",
        "if words == \"forest\" and random.randrange(4) == 0:\n",
        "  words = \"monkeys\" + \" \" + random.choice(transitive)\n",
        "else:\n",
        "  words += plural[0] + \" \" + random.choice(transitive) + plural[1]\n",
        "words += \" the \" + random.choice(below) + random.choice([\"s\", \"\"]) + \".\"\n",
        "paths = words.capitalize()\n",
        "\n",
        "# code to determine the interior setting\n",
        "adjs = adjectives[:] + random.sample(texture, 1)\n",
        "setting = \"  \" + random.choice(imperative) + \" \" + \" \".join(random.sample(adjs, random.randrange(1, 4))) + \" —\"\n",
        "\n",
        "# code to determine the landscape setting\n",
        "if random.randrange(2) == 0:\n",
        "  words = random.choice(above)\n",
        "else:\n",
        "  words = random.choice(below)\n",
        "words += \"s \" + random.choice(intransitive) + \".\"\n",
        "site = words.capitalize()\n",
        "\n",
        "stanza_count = 10 # number of stanzas\n",
        "\n",
        "for repeat in range(stanza_count): # create each stanza\n",
        "    line_count = random.randrange(3, 6)\n",
        "    for i in range(line_count):\n",
        "        if i == 0:\n",
        "            print(paths)\n",
        "        elif i == line_count - 2:\n",
        "            print(paths)\n",
        "        elif i == line_count - 1:\n",
        "            print()\n",
        "            print(setting)\n",
        "            print()\n",
        "        else:\n",
        "            print(site)"
      ],
      "metadata": {
        "id": "XHfWEqBFt8O5"
      },
      "execution_count": null,
      "outputs": []
    },
    {
      "cell_type": "markdown",
      "source": [
        "#### Strachey Love Letter\n",
        "\n",
        "In 1952, British computer scientist Christopher Strachey developed one of the [first works of electronic literature](https://grandtextauto.soe.ucsc.edu/2005/08/01/christopher-strachey-first-digital-artist/), a love letter generator (originally written for the Manchester Mark I computer). We can create his algorithm in Python using list methods, a few different flavors of iteration, and conditional statements (along with a lot of concatenation and work with strings). The program below is based on [Allison Parrish’s implementation](https://github.com/aparrish/rwet/blob/master/some-poetry-generators.ipynb), but you can modify the original text and output format to make your own creation!\n",
        "\n",
        "\n"
      ],
      "metadata": {
        "id": "b0Q7gvSksAM3"
      }
    },
    {
      "cell_type": "code",
      "source": [
        "# source: https://github.com/aparrish/rwet/blob/master/some-poetry-generators.ipynb\n",
        "\n",
        "sal_adjs = [ # salutatory adjectives\n",
        "    \"Beloved\",\n",
        "    \"Darling\",\n",
        "    \"Dear\",\n",
        "    \"Dearest\",\n",
        "    \"Fanciful\",\n",
        "    \"Honey\"]\n",
        "\n",
        "\n",
        "sal_nouns = [ # salutory nouns\n",
        "    \"Chickpea\",\n",
        "    \"Dear\",\n",
        "    \"Duck\",\n",
        "    \"Jewel\",\n",
        "    \"Love\",\n",
        "    \"Moppet\",\n",
        "    \"Sweetheart\"\n",
        "]\n",
        "\n",
        "adjs = [ # adjectives\n",
        "    'affectionate',\n",
        "    'amorous',\n",
        "    'anxious',\n",
        "    'avid',\n",
        "    'beautiful',\n",
        "    'breathless',\n",
        "    'burning',\n",
        "    'covetous',\n",
        "    'craving',\n",
        "    'curious',\n",
        "    'eager',\n",
        "    'fervent',\n",
        "    'fondest',\n",
        "    'loveable',\n",
        "    'lovesick',\n",
        "    'loving',\n",
        "    'passionate',\n",
        "    'precious',\n",
        "    'seductive',\n",
        "    'sweet',\n",
        "    'sympathetic',\n",
        "    'tender',\n",
        "    'unsatisfied',\n",
        "    'winning',\n",
        "    'wistful'\n",
        "]\n",
        "\n",
        "nouns = [ # nouns\n",
        "    'adoration',\n",
        "    'affection',\n",
        "    'ambition',\n",
        "    'appetite',\n",
        "    'ardour',\n",
        "    'being',\n",
        "    'burning',\n",
        "    'charm',\n",
        "    'craving',\n",
        "    'desire',\n",
        "    'devotion',\n",
        "    'eagerness',\n",
        "    'enchantment',\n",
        "    'enthusiasm',\n",
        "    'fancy',\n",
        "    'fellow feeling',\n",
        "    'fervour',\n",
        "    'fondness',\n",
        "    'heart',\n",
        "    'hunger',\n",
        "    'infatuation',\n",
        "    'little liking',\n",
        "    'longing',\n",
        "    'love',\n",
        "    'lust',\n",
        "    'passion',\n",
        "    'rapture',\n",
        "    'sympathy',\n",
        "    'thirst',\n",
        "    'wish',\n",
        "    'yearning'\n",
        "]\n",
        "\n",
        "advs = [ # adverbs\n",
        "    'affectionately',\n",
        "    'ardently',\n",
        "    'anxiously',\n",
        "    'beautifully',\n",
        "    'burningly',\n",
        "    'covetously',\n",
        "    'curiously',\n",
        "    'eagerly',\n",
        "    'fervently',\n",
        "    'fondly',\n",
        "    'impatiently',\n",
        "    'keenly',\n",
        "    'lovingly',\n",
        "    'passionately',\n",
        "    'seductively',\n",
        "    'tenderly',\n",
        "    'wistfully'\n",
        "]\n",
        "\n",
        "\n",
        "\n",
        "verbs = [ # verbs\n",
        "    'adores',\n",
        "    'attracts',\n",
        "    'clings to',\n",
        "    'holds dear',\n",
        "    'hopes for',\n",
        "    'hungers for',\n",
        "    'likes',\n",
        "    'longs for',\n",
        "    'loves',\n",
        "    'lusts after',\n",
        "    'pants for',\n",
        "    'pines for',\n",
        "    'sighs for',\n",
        "    'tempts',\n",
        "    'thirsts for',\n",
        "    'treasures',\n",
        "    'yearns for',\n",
        "    'woos'\n",
        "]\n",
        "\n",
        "import textwrap, random # import library\n",
        "\n",
        "output = random.choice(sal_adjs) + \" \" + random.choice(sal_nouns) + \",\\n\" # start with a salutation\n",
        "output += \"\\n\"\n",
        "\n",
        "# inside this loop, build the phrases. strachey implemented \"short\" phrases\n",
        "# and \"long\" phrases; two or more \"short\" phrases in a row have special\n",
        "# formatting rules, so we need to know what the last phrase kind was in\n",
        "# order to generate the output.\n",
        "\n",
        "history = [] # empty list to note whether the previous phrase was short or long\n",
        "\n",
        "body = \"\" # start the body of the letter\n",
        "\n",
        "for i in range(5): # create the number of paragraphs\n",
        "    kind = random.choice([\"short\", \"long\"]) # alternate short and long phrases\n",
        "    if kind == \"long\": # long phrases\n",
        "        line = \" \".join([\n",
        "            \"My\",\n",
        "            random.choice([random.choice(adjs), \"\"]),\n",
        "            random.choice(nouns),\n",
        "            random.choice([random.choice(advs), \"\"]),\n",
        "            random.choice(verbs),\n",
        "            \"your\",\n",
        "            random.choice([random.choice(adjs), \"\"]),\n",
        "            random.choice(nouns)])\n",
        "        body += line\n",
        "    else: # short phrases\n",
        "        adj_noun = random.choice(adjs) + \" \" + random.choice(nouns)\n",
        "        if len(history) > 0 and history[-1] == \"short\":\n",
        "            body += \": my \" + adj_noun\n",
        "        else:\n",
        "            body += \"You are my \" + adj_noun\n",
        "    body += \". \" # end the body of the letter\n",
        "    history.append(kind) # note the phrase type\n",
        "\n",
        "body = body.replace(\"  \", \" \") # deal with whitespace\n",
        "body = body.replace(\". :\", \":\")\n",
        "\n",
        "output += textwrap.fill(body, 60) # create letter format\n",
        "output += \"\\n\\nYours \" + random.choice(advs) + \",\\n\" # closing sign-off\n",
        "output += \"M.U.C.\"\n",
        "\n",
        "print(output) # show full letter"
      ],
      "metadata": {
        "id": "40xTa7sasZMi"
      },
      "execution_count": null,
      "outputs": []
    },
    {
      "cell_type": "markdown",
      "source": [
        "### Other Computational Creative Text Forms\n",
        "\n",
        "We can also introduce a few other text generation workflows"
      ],
      "metadata": {
        "id": "2i83R5TVvyn_"
      }
    },
    {
      "cell_type": "markdown",
      "source": [
        "#### Acrostics\n",
        "\n",
        "{admonition} Acknowledgement\n",
        ":class: tip, dropdown\n",
        "*Programs in this section are from Allison Parrish's \"[Poetics of Grouping\" activity](https://github.com/aparrish/rwet/blob/master/poetics-of-grouping.ipynb), from the NYU \"[Reading & Writing With Electronic Text\" course](https://github.com/aparrish/rwet).\n",
        "\n",
        "```{admonition} What is an acrostic?\n",
        ":class: tip\n",
        "\"An acrostic is a poem or other word composition in which the first letter (or syllable, or word) of each new line (or paragraph, or other recurring feature in the text) spells out a word, message or the alphabet\" ([Wikipedia](https://colab.research.google.com/corgiredirector?site=https%3A%2F%2Fen.wikipedia.org%2Fwiki%2FAcrostic))\n",
        "```\n",
        "\n",
        "Let's imagine we want to take the letters in Shakespeare's name and use them as the \"seed\" for each line of an acrostic that uses text from one of Shakespeare's sonnets.\n",
        "\n",
        "We can use \"[Sonnet 116](https://colab.research.google.com/corgiredirector?site=https%3A%2F%2Fwww.poetryfoundation.org%2Fpoems%2F45106%2Fsonnet-116-let-me-not-to-the-marriage-of-true-minds)\" as an example:\n",
        "<blockquote>\n",
        "Let me not to the marriage of true minds\n",
        "<br>Admit impediments. Love is not love\n",
        "<br>Which alters when it alteration finds,\n",
        "<br>Or bends with the remover to remove.\n",
        "<br>O no! it is an ever-fixed mark\n",
        "<br>That looks on tempests and is never shaken;\n",
        "<br>It is the star to every wand'ring bark,\n",
        "<br>Whose worth's unknown, although his height be taken.\n",
        "<br>Love's not Time's fool, though rosy lips and cheeks\n",
        "<br>Within his bending sickle's compass come;\n",
        "<br>Love alters not with his brief hours and weeks,\n",
        "<br>But bears it out even to the edge of doom.\n",
        "<br>If this be error and upon me prov'd,\n",
        "<br>I never writ, nor no man ever lov'd.\n",
        "<\\blockquote>\n",
        "\n",
        "Our first step would be to get the lines of the sonnet in Python."
      ],
      "metadata": {
        "id": "0_uDvOhmv4dS"
      }
    },
    {
      "cell_type": "code",
      "source": [
        "# load poem\n",
        "text = \"\"\"\n",
        "Let me not to the marriage of true minds\n",
        "Admit impediments. Love is not love\n",
        "Which alters when it alteration finds,\n",
        "Or bends with the remover to remove.\n",
        "O no! it is an ever-fixed mark\n",
        "That looks on tempests and is never shaken;\n",
        "It is the star to every wand'ring bark,\n",
        "Whose worth's unknown, although his height be taken.\n",
        "Love's not Time's fool, though rosy lips and cheeks\n",
        "Within his bending sickle's compass come;\n",
        "Love alters not with his brief hours and weeks,\n",
        "But bears it out even to the edge of doom.\n",
        "If this be error and upon me prov'd,\n",
        "I never writ, nor no man ever lov'd.\n",
        "\"\"\"\n",
        "# create list with poem lines\n",
        "lines = [y for y in (x.strip() for x in text.splitlines()) if y]"
      ],
      "metadata": {
        "id": "pOOaxt70wnP5"
      },
      "execution_count": null,
      "outputs": []
    },
    {
      "cell_type": "markdown",
      "source": [
        "Then, we would need to organize the sonnet's text into groups of terms based on initial letters. Since doing this manually would be a pain, we can use Python's dictionary data structure (and other functionality) to help us out."
      ],
      "metadata": {
        "id": "gYpRqFWEwrWm"
      }
    },
    {
      "cell_type": "code",
      "source": [
        "terms = {} # empty dictionary\n",
        "\n",
        "for line in lines: # iterate over each line in the poem\n",
        "  words = line.split() # split each line into a list of words\n",
        "  for word in words: # go over each word in the line\n",
        "    first = word[0] # gets first character in each word\n",
        "    if first.casefold() not in terms: # checks if first character is a key in our dictionary\n",
        "      terms[first.casefold()] = [] # creates an empty list with the first character as the key\n",
        "    terms[first.casefold()].append(word) # adds words that start with the same letter to the empty list\n",
        "\n",
        "\n",
        "terms.keys() # show list of keys"
      ],
      "metadata": {
        "id": "DLT8Z80TwtIf"
      },
      "execution_count": null,
      "outputs": []
    },
    {
      "cell_type": "markdown",
      "source": [
        "In the previous program, the `.casefold()` argument let us ignore capitalization when organizing terms and creating our dictionary. Now that we have our seed string (\"`shakespeare`\") and our dictionary from \"Sonnet 116,\" we can create our acrostic!"
      ],
      "metadata": {
        "id": "726U87uqwu4b"
      }
    },
    {
      "cell_type": "code",
      "source": [
        "for character in \"shakespeare\":\n",
        "  print(random.choice(terms[character]).capitalize())"
      ],
      "metadata": {
        "id": "W6aR4VuewwWw"
      },
      "execution_count": null,
      "outputs": []
    },
    {
      "cell_type": "markdown",
      "source": [
        "Grrr....\"`k`\" is a letter in \"`shakespeare`\", but doesn't appear in the sonnet. We can at least modify the program so it doesn't stop when it hits \"`k`\".\n"
      ],
      "metadata": {
        "id": "VQricjRkw1C-"
      }
    },
    {
      "cell_type": "code",
      "source": [
        "for character in \"shakespeare\":\n",
        "  if character in terms: # checks if a character is in our dictionary\n",
        "    print(random.choice(terms[character]).capitalize()) # selects a random term with a matching first character\n",
        "  else:\n",
        "    print(\">>> WARNING! ACROSTIC FAILURE! WARNING\")"
      ],
      "metadata": {
        "id": "Zh9FYH6Aw43e"
      },
      "execution_count": null,
      "outputs": []
    },
    {
      "cell_type": "markdown",
      "source": [
        "Putting that all together:"
      ],
      "metadata": {
        "id": "rAi2DVCdw7vU"
      }
    },
    {
      "cell_type": "code",
      "source": [
        "import random # import modules\n",
        "\n",
        "# load poem\n",
        "text = \"\"\"\n",
        "Let me not to the marriage of true minds\n",
        "Admit impediments. Love is not love\n",
        "Which alters when it alteration finds,\n",
        "Or bends with the remover to remove.\n",
        "O no! it is an ever-fixed mark\n",
        "That looks on tempests and is never shaken;\n",
        "It is the star to every wand'ring bark,\n",
        "Whose worth's unknown, although his height be taken.\n",
        "Love's not Time's fool, though rosy lips and cheeks\n",
        "Within his bending sickle's compass come;\n",
        "Love alters not with his brief hours and weeks,\n",
        "But bears it out even to the edge of doom.\n",
        "If this be error and upon me prov'd,\n",
        "I never writ, nor no man ever lov'd.\n",
        "\"\"\"\n",
        "# create list with poem lines\n",
        "lines = [y for y in (x.strip() for x in frost.splitlines()) if y]\n",
        "\n",
        "terms = {} # empty dictionary\n",
        "\n",
        "for line in lines: # iterate over each line in the poem\n",
        "  words = line.split() # split each line into a list of words\n",
        "  for word in words: # go over each word in the line\n",
        "    first = word[0] # gets first character in each word\n",
        "    if first.casefold() not in terms: # checks if first character is a key in our dictionary\n",
        "      terms[first.casefold()] = [] # creates an empty list with the first character as the key\n",
        "    terms[first.casefold()].append(word) # adds words that start with the same letter to the empty list\n",
        "\n",
        "\n",
        "for character in \"shakespeare\":\n",
        "  if character in terms: # checks if a character is in our dictionary\n",
        "    print(random.choice(terms[character]).capitalize()) # selects a random term with a matching first character\n",
        "  else:\n",
        "    print(\">>> WARNING! ACROSTIC FAILURE! WARNING\")"
      ],
      "metadata": {
        "id": "4fCK3Mr0xDJO"
      },
      "execution_count": null,
      "outputs": []
    },
    {
      "cell_type": "markdown",
      "source": [
        "#### Lexical Swaps\n",
        "\n",
        "Let's imagine a scenario in which we want to replace words in an original text with different words that start with the same letter. The dictionary we created in the previous task already has text organized for this task.\n",
        "\n",
        "First, we would need to determine the starting character for each word in the Sonnet.\n"
      ],
      "metadata": {
        "id": "mbknKr9BxH2s"
      }
    },
    {
      "cell_type": "code",
      "source": [
        "for line in lines: # go over each line in the sonnet\n",
        "  words = line.split() # split the line into list of words\n",
        "  for word in words: # go over each word in the line\n",
        "    print(word[0]) # print the word's first character"
      ],
      "metadata": {
        "id": "mmw7lxAsxLeg"
      },
      "execution_count": null,
      "outputs": []
    },
    {
      "cell_type": "markdown",
      "source": [
        "Then, we would need to connect the first character in each word to our dictionary."
      ],
      "metadata": {
        "id": "GQg7er_PxMgC"
      }
    },
    {
      "cell_type": "code",
      "source": [
        "for line in lines: # go over each line in the sonnet\n",
        "  words = line.split() # split the line into list of words\n",
        "  for word in words: # go over each word in the line\n",
        "    print(word[0].casefold()) # print the word's first character\n",
        "    print(terms[word[0].casefold()]) # show dictionary values that match the first character"
      ],
      "metadata": {
        "id": "C8bttre2xN1R"
      },
      "execution_count": null,
      "outputs": []
    },
    {
      "cell_type": "markdown",
      "source": [
        "Then, we would randomly select one of the matching character words for the swap.\n"
      ],
      "metadata": {
        "id": "kdutINgUxPF3"
      }
    },
    {
      "cell_type": "code",
      "source": [
        "for line in lines: # go over each line in the sonnet\n",
        "  words = line.split() # split the line into list of words\n",
        "  for word in words: # go over each word in the line\n",
        "    print(word, random.choice(terms[word[0].casefold()])) # show the original word and the replacement word"
      ],
      "metadata": {
        "id": "b58ep0XVxQHv"
      },
      "execution_count": null,
      "outputs": []
    },
    {
      "cell_type": "markdown",
      "source": [
        "Then, we can implement the lexical swap.\n"
      ],
      "metadata": {
        "id": "NNFP2OP_xRnJ"
      }
    },
    {
      "cell_type": "code",
      "source": [
        "newWords = [] # empty list for new terms\n",
        "\n",
        "\n",
        "for line in lines: # go over each line in the sonnet\n",
        "  words = line.split() # split the line into list of words\n",
        "  for word in words: # go over each word in the line\n",
        "    newWords.append(random.choice(terms[word[0].casefold()]))\n",
        "\n",
        "\n",
        "print(\" \".join(newWords)) # ues join function to combine list elements"
      ],
      "metadata": {
        "id": "7hQ_pK8RxSvu"
      },
      "execution_count": null,
      "outputs": []
    },
    {
      "cell_type": "markdown",
      "source": [
        "If we wanted the output format to mirror the original sonnet structure:\n"
      ],
      "metadata": {
        "id": "s_p0DFBMxTot"
      }
    },
    {
      "cell_type": "code",
      "source": [
        "for line in lines: # go over each line in the sonnet\n",
        "  words = line.split() # split the line into list of words\n",
        "  print(' '.join(random.choice(terms[word[0].casefold()]) for word in words)) # reconfigured version of the swap program"
      ],
      "metadata": {
        "id": "aoWCQPXDxU18"
      },
      "execution_count": null,
      "outputs": []
    },
    {
      "cell_type": "markdown",
      "source": [
        "Putting that all together:"
      ],
      "metadata": {
        "id": "B_wWyT_IxVLR"
      }
    },
    {
      "cell_type": "code",
      "source": [
        "import requests, random # import modules\n",
        "\n",
        "page = requests.get(\"https://poetrydb.org/random\") # get poem\n",
        "poem = page.json()[0] # load poem in python\n",
        "\n",
        "lines = poem['lines'] # isolate poem lines\n",
        "\n",
        "terms = {} # empty dictionary\n",
        "\n",
        "for line in lines: # iterate over each line in the poem\n",
        "  words = line.split() # split each line into a list of words\n",
        "  for word in words: # go over each word in the line\n",
        "    first = word[0] # gets first character in each word\n",
        "    if first.casefold() not in terms: # checks if first character is a key in our dictionary\n",
        "      terms[first.casefold()] = [] # creates an empty list with the first character as the key\n",
        "    terms[first.casefold()].append(word) # adds words that start with the same letter to the empty list\n",
        "\n",
        "for line in lines: # go over each line in the sonnet\n",
        "  words = line.split() # split the line into list of words\n",
        "  print(' '.join(random.choice(terms[word[0].casefold()]) for word in words)) # reconfigured version of the swap program"
      ],
      "metadata": {
        "id": "1LainR0VxWRG"
      },
      "execution_count": null,
      "outputs": []
    },
    {
      "cell_type": "markdown",
      "source": [
        "#### Natural Language Processing\n",
        "\n",
        "We’ll cover some preliminary natural language processing workflows later in the semester, but Prof. Walden has a Jupyter Notebook from a different class if you’re eager to dig in now.\n",
        "- [Sample NLP workflows](https://colab.research.google.com/drive/1J6F4OYvzKmzrnq9eWcBR_zpvncfSK91e#scrollTo=6ikhMZYw0fr7&uniqifier=3)"
      ],
      "metadata": {
        "id": "-VLNd_-Oxilv"
      }
    },
    {
      "cell_type": "markdown",
      "source": [
        "### Activity Steps\n",
        "\n",
        "**Step #1: As a group, decide on what kind of creative template you want to modify or design.**"
      ],
      "metadata": {
        "id": "mFrgQ8raRChI"
      }
    },
    {
      "cell_type": "markdown",
      "source": [
        "**Step #2: Once you have a framework or template, start to develop a pseudocode outline for your program**\n",
        "- Start with a word problem, or a narrative description of the task\n",
        "  * What is the goal\n",
        "  * What are the parameters or constraints\n",
        "  * Any particular commands or syntax you’re asked to use\n",
        "- Start breaking down the tasks into steps, thinking about how programming languages (specifically Python) approach logic\n",
        "  * Input/output, variables, operators (arithmetic, comparison)\n",
        "  * What are the programming building blocks that connect to aspects of the task\n",
        "  * BUT still write things out in plain language (not programming syntax)\n",
        "- Continue breaking the task into steps\n",
        "  * The goal is one programming step (or statement) per line\n"
      ],
      "metadata": {
        "id": "h40ydqQxRjyS"
      }
    },
    {
      "cell_type": "markdown",
      "source": [
        "**Step #3: Now we’re ready to start writing the Python program! Leverage the group roles to start translating your pseudocode outline into a Python program.**"
      ],
      "metadata": {
        "id": "K1pBnEkgRu7a"
      }
    },
    {
      "cell_type": "markdown",
      "source": [
        "**Step #4: Continue to work on debugging and testing your program, switching up group roles as needed.**"
      ],
      "metadata": {
        "id": "0zMAZCbVRxpv"
      }
    },
    {
      "cell_type": "markdown",
      "source": [
        "**Step #5: Spend a few minutes as a group discussing and reflecting on the experience. What challenges did your group encounter, and how did you solve them? Other comments or observations?**"
      ],
      "metadata": {
        "id": "CH36iWYVRzu-"
      }
    }
  ]
}