{
  "nbformat": 4,
  "nbformat_minor": 0,
  "metadata": {
    "colab": {
      "provenance": []
    },
    "kernelspec": {
      "name": "python3",
      "display_name": "Python 3"
    },
    "language_info": {
      "name": "python"
    }
  },
  "cells": [
    {
      "cell_type": "markdown",
      "source": [
        "# Python Activities\n",
        "\n",
        "The first group of collaborative activities give students opportunities to apply foundational Python concepts, using a madlib generator, a coin change calculator, and an ASCII Art program.\n"
      ],
      "metadata": {
        "id": "xTSyZQQAPTvy"
      }
    },
    {
      "cell_type": "markdown",
      "source": [
        "## Mad Lib Generator\n",
        "\n",
        "A mad lib is a word game that prompts you to supply words that are added to a template to generate a story.\n",
        "\n",
        "```{image} https://images.saymedia-content.com/.image/c_limit%2Ccs_srgb%2Cq_auto:eco%2Cw_496/MTc0MjMxNzE1MTE0Mzk1MTMy/thanksgiving-games-for-kids.webp\n",
        ":alt: madlib example\n",
        ":width: 500px\n",
        ":align: center\n",
        "```\n",
        "\n",
        "In a traditional analog mad lib, one person has the template, another person supplies the words, and hilarity ensues.\n",
        "\n",
        "We can use the `input()` & `print()` functions, along with concatenation, to implement a mad lib generator in Python.\n",
        "\n",
        "There are lots of mad lib story ideas online, and folks are welcome to come up with their own. But we could also use a work of literature, specifically a poem, as a mad lib template.\n",
        "\n",
        "For example, we can use Python to come up with a mad lib version of a stanza from Byron's \"[She Walks in Beauty](https://www.poetryfoundation.org/poems/43844/she-walks-in-beauty).\"\n",
        "\n",
        "<blockquote>She walks in beauty, like the night\n",
        "Of cloudless climes and starry skies;\n",
        "And all that’s best of dark and bright\n",
        "Meet in her aspect and her eyes;\n",
        "Thus mellowed to that tender light\n",
        "Which heaven to gaudy day denies.\n",
        "<br><br>\n",
        "One shade the more, one ray the less,\n",
        " Had half impaired the nameless grace\n",
        " Which waves in every raven tress,\n",
        " Or softly lightens o’er her face;\n",
        " Where thoughts serenely sweet express,\n",
        " How pure, how dear their dwelling-place.\n",
        "<br><br>\n",
        "And on that cheek, and o’er that brow,\n",
        " So soft, so calm, yet eloquent,\n",
        " The smiles that win, the tints that glow,\n",
        " But tell of days in goodness spent,\n",
        " A mind at peace with all below,\n",
        " A heart whose love is innocent!\n",
        "</blockquote>\n",
        "\n",
        "Let's start by mapping out parts of speech for the first stanza.\n",
        "\n",
        "```{image} ../images/ch6/byron-pos.jpg\n",
        ":alt: Tagged parts of speech\n",
        ":width: 700px\n",
        ":align: center\n",
        "```\n",
        "\n",
        "Now that we have a better sense of how parts of speech are working in the poem, we can use the `input()` & `print()` functions, along with `concatenation`, to reimagine the poem as a mad lib.\n",
        "\n",
        "Let's look at a sample program:\n"
      ],
      "metadata": {
        "id": "BgML1cnEPUoC"
      }
    },
    {
      "cell_type": "code",
      "source": [
        "# start program\n",
        "print(\"We're going to create a mad lib love poem!\")\n",
        "\n",
        "# user inputs\n",
        "verb1 = input(\"Enter a verb: \")\n",
        "noun1 = input(\"Enter a noun: \")\n",
        "adj1 = input(\"Enter an adjective: \")\n",
        "noun2 = input(\"Enter another noun: \")\n",
        "adj2 = input(\"Enter another adjective: \")\n",
        "noun3 = input(\"Enter another noun: \")\n",
        "\n",
        "# poem madlib\n",
        "print(\"She \" + verb1 + \" in beauty, like the \" + noun1 + \"\\n Of \" + adj1 + \" \" + noun2 + \" and \" + adj2 + \" \" + noun3)"
      ],
      "metadata": {
        "id": "uWUHDjqjQ8_J"
      },
      "execution_count": null,
      "outputs": []
    },
    {
      "cell_type": "markdown",
      "source": [
        "**Step #1: Now it's your turn! As a group, decide on the template for your mad lib.**\n",
        "- Poetry is one option, and the [Poetry Foundation’s website](https://www.poetryfoundation.org/) is a great starting point.\n",
        "- If you want to experiment with a generative AI tool (i.e. ChatGPT), that’s also fair game to get a story template.\n",
        "- [Pinterest board with different mad lib story ideas](https://www.pinterest.com/deegrem/mad-libs/)\n",
        "- Song lyrics can also be a good genre (even the [Notre Dame Victory March](https://fightingirish.com/trads-nd-fightsong-html/))\n",
        "- But your group can also create your own!\n"
      ],
      "metadata": {
        "id": "mFrgQ8raRChI"
      }
    },
    {
      "cell_type": "markdown",
      "source": [
        "**Step #2: Once you have a mad lib template, start to develop a pseudocode outline for your program**\n",
        "- Start with a word problem, or a narrative description of the task\n",
        "  * What is the goal\n",
        "  * What are the parameters or constraints\n",
        "  * Any particular commands or syntax you’re asked to use\n",
        "- Start breaking down the tasks into steps, thinking about how programming languages (specifically Python) approach logic\n",
        "  * Input/output, variables, operators (arithmetic, comparison)\n",
        "  * What are the programming building blocks that connect to aspects of the task\n",
        "  * BUT still write things out in plain language (not programming syntax)\n",
        "- Continue breaking the task into steps\n",
        "  * The goal is one programming step (or statement) per line\n"
      ],
      "metadata": {
        "id": "h40ydqQxRjyS"
      }
    },
    {
      "cell_type": "markdown",
      "source": [
        "**Step #3: Now we’re ready to start writing the Python program! Leverage the group roles to start translating your pseudocode outline into a Python program.**"
      ],
      "metadata": {
        "id": "K1pBnEkgRu7a"
      }
    },
    {
      "cell_type": "markdown",
      "source": [
        "**Step #4: Continue to work on debugging and testing your program, switching up group roles as needed.**"
      ],
      "metadata": {
        "id": "0zMAZCbVRxpv"
      }
    },
    {
      "cell_type": "markdown",
      "source": [
        "**Step #5: Spend a few minutes as a group discussing and reflecting on the experience. What challenges did your group encounter, and how did you solve them? Other comments or observations?**"
      ],
      "metadata": {
        "id": "CH36iWYVRzu-"
      }
    },
    {
      "cell_type": "markdown",
      "source": [
        "## Coin Change Calculator\n",
        "\n",
        "One of this week's application questions asked you to write a program that calculates the fewest number of U.S. coins needed to make change for a 73 cent remainder. To put that another way- write a program that determines the smallest number of coins in each U.S. denomination needed to make up 73 cents. Answer to this question includes program + comments that document process and explain your code.\n",
        "\n",
        "In U.S. currency, one dollar ($1.00) equals one hundred (100) cents. The coins used to make change have a face value in cents.\n",
        "- Quarter = 25 cents\n",
        "- Dime = 10 cents\n",
        "- Nickel = 5 cents\n",
        "- Penny = 1 cent\n",
        "\n",
        "Now, let’s write a program that asks the user to input the amount of change your program is to make, and then compute the number of quarters, dimes, nickels, and pennies that produces the correct change with the fewest coins possible."
      ],
      "metadata": {
        "id": "1isDjzlhR2mE"
      }
    },
    {
      "cell_type": "markdown",
      "source": [
        "**Step #1: Start to develop a pseudocode outline for your program.**\n",
        "\n",
        "- Start with a word problem, or a narrative description of the task\n",
        "  * What is the goal\n",
        "  * What are the parameters or constraints\n",
        "  * Any particular commands or syntax you’re asked to use\n",
        "- Start breaking down the tasks into steps, thinking about how programming languages (specifically Python) approach logic\n",
        "  * Input/output, variables, operators (arithmetic, comparison)\n",
        "  * What are the programming building blocks that connect to aspects of the task\n",
        "  * BUT still write things out in plain language (not programming syntax)\n",
        "- Continue breaking the task into steps\n",
        "  * The goal is one programming step (or statement) per line"
      ],
      "metadata": {
        "id": "qYK94_TZSBOH"
      }
    },
    {
      "cell_type": "markdown",
      "source": [
        "**Step #2: Now we’re ready to start writing the Python program! Leverage the group roles to start translating your pseudocode outline into a Python program.**"
      ],
      "metadata": {
        "id": "st2X4QhUSLDd"
      }
    },
    {
      "cell_type": "markdown",
      "source": [
        "**Step #3: Continue to work on debugging and testing your program, switching up group roles as needed.**"
      ],
      "metadata": {
        "id": "yWXI5JGVSMGF"
      }
    },
    {
      "cell_type": "markdown",
      "source": [
        "**Step #4: Spend a few minutes as a group discussing and reflecting on the experience. What challenges did your group encounter, and how did you solve them? Other comments or observations?**"
      ],
      "metadata": {
        "id": "k4H_9EaOSN2q"
      }
    },
    {
      "cell_type": "markdown",
      "source": [
        "## ASCII Art Creation\n",
        "\n",
        "\"ASCII art is a graphic design technique that uses computers for presentation and consists of pictures pieced together from the 95 printable (from a total of 128) characters defined by the ASCII Standard\" (Wikipedia, \"[ASCII art](https://en.wikipedia.org/wiki/ASCII_art)\")\n",
        "\n",
        "An example of ASCII art output:\n",
        "\n",
        "```\n",
        "           * *\n",
        "          *   *\n",
        "           * *\n",
        "            *\n",
        "          * * *\n",
        "         *  *  *\n",
        "        *   *   *\n",
        "            *\n",
        "          *   *\n",
        "         *     *\n",
        "        *       *\n",
        "       *         *\n",
        "      *           *\n",
        "```\n",
        "\n",
        "Write a program that creates your own ASCII art. You're welcome to consult the [ASCII Art Archive](https://www.asciiart.eu) for inspiration.\n",
        "\n",
        "One option to create this output in Python is to use multiple print statements. You can also use the regular expressions `\\t` or `\\n` to add tabs (spaces) and new lines (respectively).\n"
      ],
      "metadata": {
        "id": "_FPo7Fp9SOPB"
      }
    },
    {
      "cell_type": "markdown",
      "source": [
        "**Step #1: Start to develop a pseudocode outline for your program.**\n",
        "\n",
        "- Start with a word problem, or a narrative description of the task\n",
        "  * What is the goal\n",
        "  * What are the parameters or constraints\n",
        "  * Any particular commands or syntax you’re asked to use\n",
        "- Start breaking down the tasks into steps, thinking about how programming languages (specifically Python) approach logic\n",
        "  * Input/output, variables, operators (arithmetic, comparison)\n",
        "  * What are the programming building blocks that connect to aspects of the task\n",
        "  * BUT still write things out in plain language (not programming syntax)\n",
        "- Continue breaking the task into steps\n",
        "  * The goal is one programming step (or statement) per line"
      ],
      "metadata": {
        "id": "Tm9O33F1SgaW"
      }
    },
    {
      "cell_type": "markdown",
      "source": [
        "**Step #2: Now we’re ready to start writing the Python program! Leverage the group roles to start translating your pseudocode outline into a Python program.**"
      ],
      "metadata": {
        "id": "xc-aQrH3SnDv"
      }
    },
    {
      "cell_type": "markdown",
      "source": [
        "**Step #3: Continue to work on debugging and testing your program, switching up group roles as needed.**"
      ],
      "metadata": {
        "id": "lh04RH4MSoGx"
      }
    },
    {
      "cell_type": "markdown",
      "source": [
        "**Step #4: Spend a few minutes as a group discussing and reflecting on the experience. What challenges did your group encounter, and how did you solve them? Other comments or observations?**"
      ],
      "metadata": {
        "id": "r9axsNmySp6E"
      }
    }
  ]
}