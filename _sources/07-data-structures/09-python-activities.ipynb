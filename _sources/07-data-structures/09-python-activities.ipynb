{
  "nbformat": 4,
  "nbformat_minor": 0,
  "metadata": {
    "colab": {
      "provenance": []
    },
    "kernelspec": {
      "name": "python3",
      "display_name": "Python 3"
    },
    "language_info": {
      "name": "python"
    }
  },
  "cells": [
    {
      "cell_type": "markdown",
      "source": [
        "# Python Activities\n",
        "\n",
        "The first group of collaborative activities give students opportunities to apply foundational Python concepts, using a madlib generator, a mascot guessing game, and color guessing game."
      ],
      "metadata": {
        "id": "YfBatVzweZst"
      }
    },
    {
      "cell_type": "markdown",
      "source": [
        "## Mascot Guessing Game\n",
        "\n",
        "Write a program that asks a user to input their current or former Notre Dame residence hall and returns or outputs that hall's mascot. How might the data structures covered in this chapter be useful?\n",
        "\n",
        "```{admonition} Residence Hall Mascots\n",
        ":class: tip\n",
        "Fuzzy on your ND mascot trivia? [Wikipedia](https://en.wikipedia.org/wiki/University_of_Notre_Dame_residence_halls#List) has you covered.\n",
        "```\n",
        "\n",
        "Sample output for this program:\n",
        "\n",
        "```\n",
        "Howard Hall's mascot is the ducks!\n",
        "```\n"
      ],
      "metadata": {
        "id": "MrJl0MV4efUU"
      }
    },
    {
      "cell_type": "markdown",
      "source": [
        "**Step #1: Start to develop a pseudocode outline for your program.**\n",
        "\n",
        "- Start with a word problem, or a narrative description of the task\n",
        "  * What is the goal\n",
        "  * What are the parameters or constraints\n",
        "  * Any particular commands or syntax you’re asked to use\n",
        "- Start breaking down the tasks into steps, thinking about how programming languages (specifically Python) approach logic\n",
        "  * Input/output, variables, operators (arithmetic, comparison)\n",
        "  * What are the programming building blocks that connect to aspects of the task\n",
        "  * BUT still write things out in plain language (not programming syntax)\n",
        "- Continue breaking the task into steps\n",
        "  * The goal is one programming step (or statement) per line"
      ],
      "metadata": {
        "id": "qYK94_TZSBOH"
      }
    },
    {
      "cell_type": "markdown",
      "source": [
        "**Step #2: Now we’re ready to start writing the Python program! Leverage the group roles to start translating your pseudocode outline into a Python program.**"
      ],
      "metadata": {
        "id": "st2X4QhUSLDd"
      }
    },
    {
      "cell_type": "markdown",
      "source": [
        "**Step #3: Continue to work on debugging and testing your program, switching up group roles as needed.**"
      ],
      "metadata": {
        "id": "yWXI5JGVSMGF"
      }
    },
    {
      "cell_type": "markdown",
      "source": [
        "**Step #4: Spend a few minutes as a group discussing and reflecting on the experience. What challenges did your group encounter, and how did you solve them? Other comments or observations?**"
      ],
      "metadata": {
        "id": "k4H_9EaOSN2q"
      }
    },
    {
      "cell_type": "markdown",
      "source": [
        "## Color Guessing Game\n",
        "\n",
        "Write a program that asks the user to enter a color value and returns an output message indicating whether the color is a primary, secondary, or tertiary color. How might the data structures covered in this chapter be useful?\n",
        "\n",
        "```{admonition} Hint\n",
        ":class: tip, dropdown\n",
        "Your group might also find it useful to think about comparison operators, if-then-else logic, and Boolean logical operators.\n",
        "```\n",
        "\n",
        "```{image} https://www.color-meanings.com/wp-content/uploads/color-wheel-primary-secondary-tertiary-colors.png\n",
        ":alt: Color wheel\n",
        ":width: 750px\n",
        ":align: center\n",
        "```"
      ],
      "metadata": {
        "id": "hb5D-uSZe-1b"
      }
    },
    {
      "cell_type": "markdown",
      "source": [
        "**Step #1: Start to develop a pseudocode outline for your program.**\n",
        "\n",
        "- Start with a word problem, or a narrative description of the task\n",
        "  * What is the goal\n",
        "  * What are the parameters or constraints\n",
        "  * Any particular commands or syntax you’re asked to use\n",
        "- Start breaking down the tasks into steps, thinking about how programming languages (specifically Python) approach logic\n",
        "  * Input/output, variables, operators (arithmetic, comparison)\n",
        "  * What are the programming building blocks that connect to aspects of the task\n",
        "  * BUT still write things out in plain language (not programming syntax)\n",
        "- Continue breaking the task into steps\n",
        "  * The goal is one programming step (or statement) per line"
      ],
      "metadata": {
        "id": "NOwX3kuhfhlA"
      }
    },
    {
      "cell_type": "markdown",
      "source": [
        "**Step #2: Now we’re ready to start writing the Python program! Leverage the group roles to start translating your pseudocode outline into a Python program.**"
      ],
      "metadata": {
        "id": "6qs3GznmfkAc"
      }
    },
    {
      "cell_type": "markdown",
      "source": [
        "**Step #3: Continue to work on debugging and testing your program, switching up group roles as needed.**"
      ],
      "metadata": {
        "id": "oL54lZ_IflEg"
      }
    },
    {
      "cell_type": "markdown",
      "source": [
        "**Step #4: Spend a few minutes as a group discussing and reflecting on the experience. What challenges did your group encounter, and how did you solve them? Other comments or observations?**"
      ],
      "metadata": {
        "id": "HKR_8fEwfmFG"
      }
    },
    {
      "cell_type": "markdown",
      "source": [
        "## Mad Lib Generator\n",
        "\n",
        "Last week, folks had the chance to build their own mad lib. A mad lib is a word game that prompts you to supply words that are added to a template to generate a story. In a traditional analog mad lib, one person has the template, another person supplies the words, and hilarity ensues.\n",
        "\n",
        "We can return to that workflow, incorporating this chapter's data structures. For example, instead of just making single word substitutions, we could have groups of terms and make random selections from the group.\n",
        "\n",
        "Let's look at another version of our Byron example:\n",
        "\n",
        "\n",
        "\n",
        "\n"
      ],
      "metadata": {
        "id": "7y4qzLj2fnem"
      }
    },
    {
      "cell_type": "code",
      "source": [
        "import random # import random module\n",
        "\n",
        "terms = {\n",
        "\t'verbs': ['runs', 'crawls', 'begs', 'rides', 'sings'], # list of verbs\n",
        "\t'prepositions': ['in', 'on', 'under', 'over', 'through'], # list of prepositions\n",
        "\t'adjectives' : ['small', 'warm', 'angry', 'happy'], # list of adjectives\n",
        "\t'nouns' : ['cloud', 'terrace', 'castle', 'woods']\n",
        "\t}\n",
        "\n",
        "# poem madlib\n",
        "print(\"She \" + random.choice(terms['verbs']) + \" in beauty, like the \" + random.choice(terms['nouns']) + \"\\n Of \" +\n",
        "      random.choice(terms['adjectives']) + \" \" + random.choice(terms['nouns']) + \" and \" + random.choice(terms['adjectives']) + \" \" + random.choice(terms['nouns']))"
      ],
      "metadata": {
        "id": "tHwx_qUvf46m"
      },
      "execution_count": null,
      "outputs": []
    },
    {
      "cell_type": "markdown",
      "source": [
        "**Step #1: As a group, decide on the template for your mad lib.**\n",
        "- Poetry is one option, and the [Poetry Foundation’s website](https://www.poetryfoundation.org/) is a great starting point.\n",
        "- If you want to experiment with a generative AI tool (i.e. ChatGPT), that’s also fair game to get a story template.\n",
        "- [Pinterest board with different mad lib story ideas](https://www.pinterest.com/deegrem/mad-libs/)\n",
        "- Song lyrics can also be a good genre (even the [Notre Dame Victory March](https://fightingirish.com/trads-nd-fightsong-html/))\n",
        "- But your group can also create your own!\n",
        "\n",
        "```{note}\n",
        "While folks are welcome to write a mad lib that takes inputs from the user, you’re also welcome to focus on text generation in Python and create your own lists of terms to draw on.\n",
        "```"
      ],
      "metadata": {
        "id": "mFrgQ8raRChI"
      }
    },
    {
      "cell_type": "markdown",
      "source": [
        "**Step #2: Once you have a mad lib template, start to develop a pseudocode outline for your program**\n",
        "- Start with a word problem, or a narrative description of the task\n",
        "  * What is the goal\n",
        "  * What are the parameters or constraints\n",
        "  * Any particular commands or syntax you’re asked to use\n",
        "- Start breaking down the tasks into steps, thinking about how programming languages (specifically Python) approach logic\n",
        "  * Input/output, variables, operators (arithmetic, comparison)\n",
        "  * What are the programming building blocks that connect to aspects of the task\n",
        "  * BUT still write things out in plain language (not programming syntax)\n",
        "- Continue breaking the task into steps\n",
        "  * The goal is one programming step (or statement) per line\n"
      ],
      "metadata": {
        "id": "h40ydqQxRjyS"
      }
    },
    {
      "cell_type": "markdown",
      "source": [
        "**Step #3: Now we’re ready to start writing the Python program! Leverage the group roles to start translating your pseudocode outline into a Python program.**"
      ],
      "metadata": {
        "id": "K1pBnEkgRu7a"
      }
    },
    {
      "cell_type": "markdown",
      "source": [
        "**Step #4: Continue to work on debugging and testing your program, switching up group roles as needed.**"
      ],
      "metadata": {
        "id": "0zMAZCbVRxpv"
      }
    },
    {
      "cell_type": "markdown",
      "source": [
        "**Step #5: Spend a few minutes as a group discussing and reflecting on the experience. What challenges did your group encounter, and how did you solve them? Other comments or observations?**"
      ],
      "metadata": {
        "id": "CH36iWYVRzu-"
      }
    },
    {
      "cell_type": "markdown",
      "source": [
        "## Creative Text Generation\n",
        "\n",
        "Want to try a different form of creative text generation? Since the early days of computers, artists and writers have been thinking about how computers might facilitate different forms of text generation and creative expression."
      ],
      "metadata": {
        "id": "SSAr1LLtgZce"
      }
    },
    {
      "cell_type": "markdown",
      "source": [
        "### Dadaist Poem\n",
        "\n",
        "Avant-garde 20th century Poet Tristan Tzara developed a [framework for making a Dadaist poem](https://www.writing.upenn.edu/~afilreis/88v/tzara.html) (circa 1920). We can implement a similar approach in Python using list methods. The program below is based on [Allison Parrish’s implementation](https://github.com/aparrish/rwet/blob/master/some-poetry-generators.ipynb), but you can modify the original text and output format to make your own creation!\n"
      ],
      "metadata": {
        "id": "hzAbwKK5geVH"
      }
    },
    {
      "cell_type": "code",
      "source": [
        "# based on: https://www.writing.upenn.edu/~afilreis/88v/tzara.html\n",
        "\n",
        "import random, textwrap # import Python modules\n",
        "\n",
        "# paragraph of  text\n",
        "newspaper = \"\"\"\n",
        "Dada was an informal international movement, with\n",
        "participants in Europe and North America. The\n",
        "beginnings of Dada correspond to the outbreak of\n",
        "World War I. For many participants, the movement\n",
        "was a protest against the bourgeois nationalist\n",
        "and colonialist interests, which many Dadaists\n",
        "believed were the root cause of the war, and\n",
        "against the cultural and intellectual\n",
        "conformity — in art and more broadly in\n",
        "society — that corresponded to the war.\"\"\"\n",
        "\n",
        "words = newspaper.split() # split newspaper variable into list of words\n",
        "random.shuffle(words) # shuffle list of words\n",
        "\n",
        "print(textwrap.fill(\" \".join(words), 60)) # recreate paragraph from shuffled list"
      ],
      "metadata": {
        "id": "Zv8Yn_3ygqmv"
      },
      "execution_count": null,
      "outputs": []
    },
    {
      "cell_type": "markdown",
      "source": [
        "### House of Dust\n",
        "\n",
        "Alison Knowles and James Tenney were American artists associated with the Fluxus in the mid-20th century. Their 1967 poem “[A House of Dust](https://www.newyorker.com/goings-on-about-town/art/the-house-of-dust-by-alison-knowles)”, originally written in FORTRAN, was one of the first computational poems. Folks can [watch a video](https://youtu.be/-68Z708lFsY?si=oMk6t1x3dBMovojO) of Knowles reciting the poem!\n",
        "\n",
        "The program below is a Python implementation of the original FORTRAN program, based on [Allison Parrish’s](https://github.com/aparrish/rwet/blob/master/some-poetry-generators.ipynb) and [Nick Montfort’s](https://nickm.com/memslam/the_house_of_dust.html) work. But you can modify the original text and output format to make your own creation!\n"
      ],
      "metadata": {
        "id": "274PaGwKf5HD"
      }
    },
    {
      "cell_type": "code",
      "source": [
        "# based on: https://github.com/aparrish/rwet/blob/master/some-poetry-generators.ipynb & https://nickm.com/memslam/the_house_of_dust.html\n",
        "\n",
        "import random # import random\n",
        "\n",
        "materials = [ # list of materials\n",
        "    'brick',\n",
        "    'broken dishes',\n",
        "    'discarded clothing',\n",
        "    'dust',\n",
        "    'glass',\n",
        "    'leaves',\n",
        "    'mud',\n",
        "    'paper',\n",
        "    'plastic',\n",
        "    'roots',\n",
        "    'sand',\n",
        "    'steel',\n",
        "    'stone',\n",
        "    'straw',\n",
        "    'tin',\n",
        "    'weeds',\n",
        "    'wood'\n",
        "]\n",
        "\n",
        "\n",
        "\n",
        "locations = [ # list of locations\n",
        "    'among high mountains',\n",
        "    'among other houses',\n",
        "    'among small hills',\n",
        "    'by a river',\n",
        "    'by an abandoned lake',\n",
        "    'by the sea',\n",
        "    'in a cold, windy climate',\n",
        "    'in a deserted airport',\n",
        "    'in a deserted church',\n",
        "    'in a deserted factory',\n",
        "    'in a green, mossy terrain',\n",
        "    'in a hot climate',\n",
        "    'in a metropolis',\n",
        "    'in a place with both heavy rain and bright sun',\n",
        "    'in an overpopulated area',\n",
        "    'in dense woods',\n",
        "    'in heavy jungle undergrowth',\n",
        "    'in japan',\n",
        "    'in michigan',\n",
        "    'in southern france',\n",
        "    'inside a mountain',\n",
        "    'on an island',\n",
        "    'on the sea',\n",
        "    'underwater'\n",
        "]\n",
        "\n",
        "\n",
        "\n",
        "lights = [ # list of lighting options\n",
        "    'all available lighting',\n",
        "    'candles',\n",
        "    'electricity',\n",
        "    'natural light'\n",
        "]\n",
        "\n",
        "\n",
        "\n",
        "inhabitants = [ # list of inhabitant options\n",
        "    'all races of men represented wearing predominantly red clothing',\n",
        "    'children and old people',\n",
        "    'collectors of all types',\n",
        "    'fishermen and families',\n",
        "    'french and german speaking people',\n",
        "    'friends',\n",
        "    'friends and enemies',\n",
        "    'horses and birds',\n",
        "    'little boys',\n",
        "    'lovers',\n",
        "    'people from many walks of life',\n",
        "    'people speaking many languages wearing little or no clothing',\n",
        "    'people who eat a great deal',\n",
        "    'people who enjoy eating together',\n",
        "    'people who love to read',\n",
        "    'people who sleep almost all the time',\n",
        "    'people who sleep very little',\n",
        "    'various birds and fish',\n",
        "    'vegetarians',\n",
        "    'very tall people'\n",
        "]\n",
        "\n",
        "stanza_count = 7 # number of stanzas for the poem\n",
        "\n",
        "for i in range(stanza_count): # create number of stanzas\n",
        "    print()\n",
        "    print(\"A house of \" + random.choice(materials))\n",
        "    print(\"     \" + random.choice(locations))\n",
        "    print(\"          using \" + random.choice(lights))\n",
        "    print(\"                inhabited by \" + random.choice(inhabitants))"
      ],
      "metadata": {
        "id": "1joJz30EgDpr"
      },
      "execution_count": null,
      "outputs": []
    }
  ]
}