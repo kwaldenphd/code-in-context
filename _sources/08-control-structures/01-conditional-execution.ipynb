{
  "nbformat": 4,
  "nbformat_minor": 0,
  "metadata": {
    "colab": {
      "provenance": []
    },
    "kernelspec": {
      "name": "python3",
      "display_name": "Python 3"
    },
    "language_info": {
      "name": "python"
    }
  },
  "cells": [
    {
      "cell_type": "markdown",
      "source": [
        "# Conditional Execution\n",
        "\n",
        "One type of control structure involves `selection`, choosing what piece of code to execute based on a condition's true/false value. We can also describe this as `conditional execution`."
      ],
      "metadata": {
        "id": "k_AKd7dEk-EF"
      }
    },
    {
      "cell_type": "markdown",
      "source": [
        "## A Mental Model\n",
        "\n",
        "Let's imagine a real-world scenario. It's 10:45am on Tuesday and our class just wrapped up. You want to grab coffee before your next class.\n",
        "\n",
        "Since we meet in DeBartolo, your closest option will be Duncan Student Center's Hagerty Cafe. But, lots of other people just got out of class and might also be on the hunt for coffee. Enter a condition you need to test for: `Can I get coffee from Hagerty Cafe before my next class?`\n",
        "\n",
        "There are other contributing factors, but let's stick with a simplified underlying question.\n",
        "\n",
        "If the answer is `yes`, you go to Hagerty and get coffee. If the answer is `no`, you're out of luck (or will need to try something else).\n",
        "\n",
        "Let's say there's a long line at Hagerty- you won't be able to get coffee in time for your next class. The `no` answer to the initial condition might lead you to test a new condition: `Can I get coffee from O'Shaughnessy's Charron Family Commons before my next class?`\n",
        "\n",
        "If Hagerty works, you'll never have to think about Charron. If Hagerty doesn't work, but Charron does, you're good to go! If Hagerty doesn't work AND Charron doesn't work, you might give up on coffee (or test similar conditions for other campus coffee locations).\n",
        "\n",
        "The scenario we just walked through is an example of conditional execution."
      ],
      "metadata": {
        "id": "LuxetcRUlAru"
      }
    },
    {
      "cell_type": "markdown",
      "source": [
        "### Visual Representation\n",
        "\n",
        "Let's represent this visually.\n",
        "\n",
        "<p align=\"center\"><img src=\"https://github.com/kwaldenphd/code-in-context/blob/main/book/images/ch8/if-else.png?raw=true\"></img></p>\n",
        "\n",
        "Remember in our initial scenario, you aren't introducing additional conditions.\n",
        "\n",
        "<p align=\"center\"><img src=\"https://github.com/kwaldenphd/code-in-context/blob/main/book/images/ch8/if-then-else.png?raw=true\"></img></p>\n",
        "\n",
        "In the second scenario, you're introducing an additional condition (based on the result of the first condition test)."
      ],
      "metadata": {
        "id": "k5YcBp5UlGFn"
      }
    },
    {
      "cell_type": "markdown",
      "source": [
        "## Conditional Execution in Python\n",
        "\n",
        "In Python, this logic is expressed using the `if`, `else`, and `elif` syntax. From W3Schols, \"[Python Conditions](https://www.w3schools.com/python/python_conditions.asp)\":\n",
        "- \"An 'if statement' is written by using the `if` keyword\"\n",
        "- \"The `elif` keyword is Python's way of saying 'if the previous conditions were not true, then try this condition'\"\n",
        "- \"The `else` keyword catches anything which isn't caught by the preceding conditions\""
      ],
      "metadata": {
        "id": "vVO2ejQu19ZF"
      }
    },
    {
      "cell_type": "markdown",
      "source": [
        "### Pseudocode Examples\n",
        "\n",
        "Let's walk through a few examples that introduce Python syntax."
      ],
      "metadata": {
        "id": "I_5joamx2E_R"
      }
    },
    {
      "cell_type": "code",
      "source": [
        "# if statement- this is the initial condition\n",
        "if INITIAL CONDITION:\n",
        "  code that runs if the initial condition is true"
      ],
      "metadata": {
        "id": "_ymhBy5_2NCI"
      },
      "execution_count": null,
      "outputs": []
    },
    {
      "cell_type": "markdown",
      "source": [
        "```{note}\n",
        "The code that is conditionally executed is nested under the `if` statement.\n",
        "```\n",
        "\n",
        "Let's add another component."
      ],
      "metadata": {
        "id": "GojtTvoD2Wfz"
      }
    },
    {
      "cell_type": "code",
      "source": [
        "# if statement- this is the initial condition\n",
        "if INITIAL CONDITION:\n",
        "  code that runs if the initial condition is true\n",
        "\n",
        "else: # else statement- this does not introduce a new condition\n",
        "  code that runs if the initial condition is flase"
      ],
      "metadata": {
        "id": "BimFHRgF2f14"
      },
      "execution_count": null,
      "outputs": []
    },
    {
      "cell_type": "markdown",
      "source": [
        "We can call that block of code an `if-else` statement.\n",
        "\n",
        "But what if we want to introduce additional conditions? That's where `elif` comes in."
      ],
      "metadata": {
        "id": "25_OoyDI2n7U"
      }
    },
    {
      "cell_type": "code",
      "source": [
        "# if statement- this is the initial condition\n",
        "if INITIAL CONDITION:\n",
        "  code that runs if the initial condition is true\n",
        "\n",
        "elif SECOND CONDITION: # elif statement- this introduces a new condition\n",
        "  code that runs if the second condition is true"
      ],
      "metadata": {
        "id": "vbrLRMYG22XT"
      },
      "execution_count": null,
      "outputs": []
    },
    {
      "cell_type": "markdown",
      "source": [
        "Note that the `elif` condition will only be tested if the initial `if` condition is `FALSE`.\n",
        "\n",
        "Putting it all together (with our Hagerty example):"
      ],
      "metadata": {
        "id": "vJh-AuBI29Vf"
      }
    },
    {
      "cell_type": "code",
      "source": [
        "if hagerty works: # initial condition\n",
        "  get coffee from hagerty\n",
        "\n",
        "elif charron works: # second condition\n",
        "  get coffee from charron\n",
        "\n",
        "else: # code that runs if no other conditions are true\n",
        "  no coffee for you :\\"
      ],
      "metadata": {
        "id": "r8jlIj5P2fLS"
      },
      "execution_count": null,
      "outputs": []
    },
    {
      "cell_type": "markdown",
      "source": [
        "### Python Example\n",
        "\n",
        "Let's look at an alternate example, this time with working Python syntax."
      ],
      "metadata": {
        "id": "3imAZdqn3TOx"
      }
    },
    {
      "cell_type": "code",
      "source": [
        "# assign variables\n",
        "x = 5\n",
        "y = 7\n",
        "\n",
        "# if statement\n",
        "if x > y:\n",
        "    print(\"The value of x is greater than the value of y\")\n",
        "\n",
        "# else if statement\n",
        "elif x == y:\n",
        "    print(\"The value of x is equal to the value of y\")\n",
        "\n",
        "# else statement\n",
        "else:\n",
        "    print(\"The value of x is less than the value of y\")"
      ],
      "metadata": {
        "id": "qv1dn9QgmKFM"
      },
      "execution_count": null,
      "outputs": []
    },
    {
      "cell_type": "markdown",
      "source": [
        "## Recap\n",
        "- `if` introduces and evaluates an initial condition. The lines of code indented under `if` will only run when the `if` statement is `True`\n",
        "- `else-if` or `elif` introduces and evaluates another condition. The lines of code indented under `elif` will only run when the `elif` statement is `True`\n",
        "- `else` **does not** introduce a new condition. The lines of code indented under `else` will only run when the preceeding `if`/`elif` statements **are not** true\n",
        "\n",
        "```{admonition} Additional Resources\n",
        ":class: tip, dropdown\n",
        "For more on `if-then-else` logic in Python:\n",
        "- [W3Schools, Python If ... Else](https://www.w3schools.com/python/python_conditions.asp)\n",
        "```"
      ],
      "metadata": {
        "id": "HPo3b-7X3Xcb"
      }
    },
    {
      "cell_type": "markdown",
      "source": [
        "## Indentation\n",
        "\n",
        "As we continue to introduce more programming concepts and further our work in Python, we're starting to see **code blocks** and **indentation** at work.\n",
        "\n",
        "```{admonition} Definition\n",
        ":class: tip, dropdown\n",
        "From Busbee and Braunschweig's \"[Code Blocks](https://press.rebus.community/programmingfundamentals/chapter/code-blocks/)\" from *Programming Fundamentals*:\n",
        "- \"A code block, sometimes referred to as a compound statement, is a lexical structure of source code which is grouped together. Blocks consist of one or more declarations and statements. A programming language that permits the creation of blocks, including blocks nested within other blocks, is called a block-structured programming language. Blocks are fundamental to structured programming, where control structures are formed from blocks.\"\n",
        "```\n",
        "\n",
        "In Python syntax, code blocks are marked by indentation, or indented lines of code.\n",
        "\n",
        "```Python\n",
        "# an example of indentation in Python\n",
        "if expression:\n",
        "   statement\n",
        "   statement\n",
        "else:\n",
        "   statement\n",
        "   statement\n",
        "```"
      ],
      "metadata": {
        "id": "osR6uzvWlp-C"
      }
    },
    {
      "cell_type": "markdown",
      "source": [
        "## Comprehension Check\n",
        "\n",
        "<table>\n",
        " <tr><td>\n",
        "<img src=\"https://github.com/kwaldenphd/internet/blob/main/images/clipboard.png?raw=true\" alt=\"Clipboard icon\" width=\"50\"/></td>\n",
        "  <td><a href=\"https://docs.google.com/forms/d/e/1FAIpQLSfP5zF_hGh2tEgr0pz3D56a6YiIkjJxcfRZq5YAHcjhZQ3wqw/viewform?usp=sf_link\"><code>if-then-else</code> Comprehension Check</a></td>\n",
        "  </tr>\n",
        "  </table>"
      ],
      "metadata": {
        "id": "U5q9Md7umMrt"
      }
    },
    {
      "cell_type": "markdown",
      "source": [
        "## Application\n",
        "\n",
        "Q1: Write a program that asks a user to enter a color value and returns an output message comparing that value with your favorite color. This program will use a combination of the `input()` function, comparison operators, and `if-then-else` logic. Answer to this question includes program + comments that document process and explain your code.\n",
        "\n",
        "Sample output for this program:\n",
        "```\n",
        "Your favorite color: green\n",
        "\n",
        "My age: blue\n",
        "\n",
        "We don't have the same favorite color.\n",
        "```\n",
        "\n",
        "Q2: Write a program that lets the user play a guessing game.\n",
        "- First, your program should set a number as the \"correct answer\"\n",
        "- Then, your program will ask the user to guess a number\n",
        "- Your program should give a message indicating whether the user's guess is correct, too high, or too low\n",
        "\n",
        "This program will use a combination of the `input()` function, comparison operators, and `if-then-else` logic. Answer to this question includes program + comments that document process and explain your code.\n",
        "\n",
        "Sample output for this program (for a correct answer of 7:\n",
        "\n",
        "```\n",
        "You guessed 13.\n",
        "\n",
        "This guess is too high.\n",
        "\n",
        "Better luck next time!\n",
        "```"
      ],
      "metadata": {
        "id": "-WZIdg8lmOyP"
      }
    }
  ]
}